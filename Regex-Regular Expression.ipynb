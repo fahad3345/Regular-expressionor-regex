{
 "cells": [
  {
   "cell_type": "code",
   "execution_count": 2,
   "id": "9349e44e",
   "metadata": {},
   "outputs": [],
   "source": [
    "import re"
   ]
  },
  {
   "cell_type": "code",
   "execution_count": 8,
   "id": "b12fa80c",
   "metadata": {},
   "outputs": [
    {
     "data": {
      "text/plain": [
       "['9993337770', '(999)-555-1111']"
      ]
     },
     "execution_count": 8,
     "metadata": {},
     "output_type": "execute_result"
    }
   ],
   "source": [
    "text='''my father is using two mobile phones, i only knows his one number 9993337770 ,i'm guessing the other number is (999)-555-1111'''\n",
    "pattern='\\(\\d{3}\\)-\\d{3}-\\d{4}|\\d{10}'\n",
    "matches=re.findall(pattern,text)\n",
    "matches"
   ]
  },
  {
   "cell_type": "code",
   "execution_count": 14,
   "id": "5fbb0e6d",
   "metadata": {},
   "outputs": [],
   "source": [
    "text='''Note 1 - Remarks\n",
    "Conversion Note: This may be a rarely used metadata element within the journal metadata, because many journal DTDs choose not to recognize subtitles, placing both the title and the subtitle information into the article title element (<article-title>).\n",
    "\n",
    "Note 2 - Related Elements\n",
    "There are several elements concerned with the title of an article, all contained within the wrapper element <title-group> in the article metadata. The <article-title> is the full title of the article in the original language of the document'''\n",
    "pattern='Note \\d - ([^\\n]+)'"
   ]
  },
  {
   "cell_type": "code",
   "execution_count": 15,
   "id": "41ea8334",
   "metadata": {},
   "outputs": [
    {
     "data": {
      "text/plain": [
       "['Remarks', 'Related Elements']"
      ]
     },
     "execution_count": 15,
     "metadata": {},
     "output_type": "execute_result"
    }
   ],
   "source": [
    "matches=re.findall(pattern,text)\n",
    "matches"
   ]
  },
  {
   "cell_type": "code",
   "execution_count": 26,
   "id": "d054aef9",
   "metadata": {},
   "outputs": [
    {
     "name": "stdout",
     "output_type": "stream",
     "text": [
      "Lease and his price: [('2021 Q1', '300000'), ('2020 Q3', '300040')]\n"
     ]
    }
   ],
   "source": [
    "text='''Fahad lease vehicle in FY2021 Q1 was IND 300000\n",
    "Ajmal lease veicle in fy2020 Q3 was IND 300040'''\n",
    "\n",
    "#i need lease code and quarter and his price\n",
    "\n",
    "pattern_lease='FY(\\d{4} Q[1-4])[^IND]+ IND (\\d+)'\n",
    "\n",
    "lease=re.findall(pattern_lease,text,flags=re.IGNORECASE)\n",
    "print('Lease and his price:',lease)"
   ]
  },
  {
   "cell_type": "markdown",
   "id": "34031b34",
   "metadata": {},
   "source": [
    "#### 1. Extract all twitter handles from following text. Twitter handle is the text that appears after https://twitter.com/ and is a single word. Also it contains only alpha numeric characters i.e. A-Z a-z , o to 9 and underscore _"
   ]
  },
  {
   "cell_type": "code",
   "execution_count": 35,
   "id": "bca76d49",
   "metadata": {},
   "outputs": [
    {
     "data": {
      "text/plain": [
       "['elonmusk', 'teslarati', 'dummy_tesla', 'dummy_2_tesla']"
      ]
     },
     "execution_count": 35,
     "metadata": {},
     "output_type": "execute_result"
    }
   ],
   "source": [
    "twitter = '''\n",
    "Follow our leader Elon musk on twitter here: https://twitter.com/elonmusk, more information \n",
    "on Tesla's products can be found at https://www.tesla.com/. Also here are leading influencers \n",
    "for tesla related news,\n",
    "https://twitter.com/teslarati\n",
    "https://twitter.com/dummy_tesla\n",
    "https://twitter.com/dummy_2_tesla\n",
    "'''\n",
    "pattern='twitter.com\\/([A-Za-z0-9\\_]+)'\n",
    "re.findall(pattern,twitter)"
   ]
  },
  {
   "cell_type": "markdown",
   "id": "20aba65c",
   "metadata": {},
   "source": [
    "#### 2. Extract Concentration Risk Types. It will be a text that appears after \"Concentration Risk:\", In below example, your regex should extract these two strings"
   ]
  },
  {
   "cell_type": "code",
   "execution_count": 38,
   "id": "15d43bfa",
   "metadata": {},
   "outputs": [
    {
     "data": {
      "text/plain": [
       "['Credit Risk', 'Supply Risk']"
      ]
     },
     "execution_count": 38,
     "metadata": {},
     "output_type": "execute_result"
    }
   ],
   "source": [
    "text='''\n",
    "Concentration of Risk: Credit Risk\n",
    "Financial instruments that potentially subject us to a concentration of credit risk consist of cash, cash equivalents, marketable securities,\n",
    "restricted cash, accounts receivable, convertible note hedges, and interest rate swaps. Our cash balances are primarily invested in money market funds\n",
    "or on deposit at high credit quality financial institutions in the U.S. These deposits are typically in excess of insured limits. As of September 30, 2021\n",
    "and December 31, 2020, no entity represented 10% or more of our total accounts receivable balance. The risk of concentration for our convertible note\n",
    "hedges and interest rate swaps is mitigated by transacting with several highly-rated multinational banks.\n",
    "Concentration of Risk: Supply Risk\n",
    "We are dependent on our suppliers, including single source suppliers, and the inability of these suppliers to deliver necessary components of our\n",
    "products in a timely manner at prices, quality levels and volumes acceptable to us, or our inability to efficiently manage these components from these\n",
    "suppliers, could have a material adverse effect on our business, prospects, financial condition and operating results.\n",
    "'''\n",
    "pattern = 'Concentration of Risk: ([A-Za-z ]+)'\n",
    "\n",
    "re.findall(pattern, text)"
   ]
  },
  {
   "cell_type": "markdown",
   "id": "7ee5c965",
   "metadata": {},
   "source": [
    "#### 3. Companies in europe reports their financial numbers of semi annual basis and you can have a document like this. To exatract quarterly and semin annual period you can use a regex as shown below"
   ]
  },
  {
   "cell_type": "code",
   "execution_count": 8,
   "id": "474b01d0",
   "metadata": {},
   "outputs": [
    {
     "data": {
      "text/plain": [
       "['4.85', '8']"
      ]
     },
     "execution_count": 8,
     "metadata": {},
     "output_type": "execute_result"
    }
   ],
   "source": [
    "text = '''\n",
    "Tesla's gross cost of operating lease vehicles in FY2021 Q1 was $4.85 billion.\n",
    "BMW's gross cost of operating vehicles in FY2021 Q1 was $8 billion.\n",
    "'''\n",
    "pattern='\\$([0-9\\.]+)'\n",
    "re.findall(pattern,text)"
   ]
  },
  {
   "cell_type": "code",
   "execution_count": 12,
   "id": "41a9a973",
   "metadata": {},
   "outputs": [
    {
     "name": "stdout",
     "output_type": "stream",
     "text": [
      "[('2021 Q1', '4.85'), ('2021 Q1', '8')]\n"
     ]
    }
   ],
   "source": [
    "pattern='FY(\\d{4} Q[1-4])[^$]+\\$([\\d\\.]+)'\n",
    "print(re.findall(pattern,text))"
   ]
  },
  {
   "cell_type": "code",
   "execution_count": null,
   "id": "c4e6b786",
   "metadata": {},
   "outputs": [],
   "source": []
  }
 ],
 "metadata": {
  "kernelspec": {
   "display_name": "Python 3 (ipykernel)",
   "language": "python",
   "name": "python3"
  },
  "language_info": {
   "codemirror_mode": {
    "name": "ipython",
    "version": 3
   },
   "file_extension": ".py",
   "mimetype": "text/x-python",
   "name": "python",
   "nbconvert_exporter": "python",
   "pygments_lexer": "ipython3",
   "version": "3.11.3"
  }
 },
 "nbformat": 4,
 "nbformat_minor": 5
}
